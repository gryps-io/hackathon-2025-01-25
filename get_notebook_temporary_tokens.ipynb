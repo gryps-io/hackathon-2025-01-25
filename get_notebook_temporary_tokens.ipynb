{
 "cells": [
  {
   "cell_type": "markdown",
   "id": "12b7ee86-1113-4adb-83db-8fa7cae72a12",
   "metadata": {},
   "source": [
    "### USING A HELPER LIBRARY TO CONNECT TO GRYPS DATALAKE AND KNOWLEDGE GRAPH"
   ]
  },
  {
   "cell_type": "code",
   "execution_count": 6,
   "id": "1eab4a5e-d4ab-4a05-bbc5-fd307dcea48d",
   "metadata": {
    "tags": []
   },
   "outputs": [],
   "source": [
    "from gryps_utils import NeptuneQueryHandler, IMSQueryHandler"
   ]
  },
  {
   "cell_type": "markdown",
   "id": "5f3ac985-375b-4de3-ad83-81d45b3e3c84",
   "metadata": {},
   "source": [
    "### QUERYING FROM GRYPS KNOWLEDGE GRAPH (USING SPARQL)"
   ]
  },
  {
   "cell_type": "code",
   "execution_count": 7,
   "id": "7fdf74b6-4125-4da0-b299-e38e42399d47",
   "metadata": {
    "tags": []
   },
   "outputs": [],
   "source": [
    "neptune_client = NeptuneQueryHandler(profile_name=\"default\")"
   ]
  },
  {
   "cell_type": "code",
   "execution_count": 8,
   "id": "db50b611-ec81-4375-9b06-5f1e089ede00",
   "metadata": {
    "tags": []
   },
   "outputs": [],
   "source": [
    "query = \"\"\"\n",
    "SELECT ?s ?p ?o\n",
    "WHERE\n",
    "{{\n",
    "    ?s ?p ?o .\n",
    "    ?s a gc:Violation\n",
    "}}\n",
    "LIMIT 10\n",
    "\"\"\""
   ]
  },
  {
   "cell_type": "code",
   "execution_count": 4,
   "id": "c32d8c64-5734-4d7f-82b7-92770bfde6b5",
   "metadata": {
    "tags": []
   },
   "outputs": [
    {
     "data": {
      "text/html": [
       "<div>\n",
       "<style scoped>\n",
       "    .dataframe tbody tr th:only-of-type {\n",
       "        vertical-align: middle;\n",
       "    }\n",
       "\n",
       "    .dataframe tbody tr th {\n",
       "        vertical-align: top;\n",
       "    }\n",
       "\n",
       "    .dataframe thead th {\n",
       "        text-align: right;\n",
       "    }\n",
       "</style>\n",
       "<table border=\"1\" class=\"dataframe\">\n",
       "  <thead>\n",
       "    <tr style=\"text-align: right;\">\n",
       "      <th></th>\n",
       "      <th>s</th>\n",
       "      <th>p</th>\n",
       "      <th>o</th>\n",
       "    </tr>\n",
       "  </thead>\n",
       "  <tbody>\n",
       "    <tr>\n",
       "      <th>0</th>\n",
       "      <td>https://gryps.io/KnowledgeGraph.owl#Individual...</td>\n",
       "      <td>http://www.w3.org/1999/02/22-rdf-syntax-ns#type</td>\n",
       "      <td>https://gryps.io/KnowledgeGraph.owl#Class/Viol...</td>\n",
       "    </tr>\n",
       "    <tr>\n",
       "      <th>1</th>\n",
       "      <td>https://gryps.io/KnowledgeGraph.owl#Individual...</td>\n",
       "      <td>https://gryps.io/KnowledgeGraph.owl#DataProper...</td>\n",
       "      <td>DISMISSED</td>\n",
       "    </tr>\n",
       "    <tr>\n",
       "      <th>2</th>\n",
       "      <td>https://gryps.io/KnowledgeGraph.owl#Individual...</td>\n",
       "      <td>https://gryps.io/KnowledgeGraph.owl#DataProper...</td>\n",
       "      <td>CONSTRUCTION</td>\n",
       "    </tr>\n",
       "    <tr>\n",
       "      <th>3</th>\n",
       "      <td>https://gryps.io/KnowledgeGraph.owl#Individual...</td>\n",
       "      <td>https://gryps.io/KnowledgeGraph.owl#DataProper...</td>\n",
       "      <td>DOB BIS</td>\n",
       "    </tr>\n",
       "    <tr>\n",
       "      <th>4</th>\n",
       "      <td>https://gryps.io/KnowledgeGraph.owl#Individual...</td>\n",
       "      <td>https://gryps.io/KnowledgeGraph.owl#ObjectProp...</td>\n",
       "      <td>https://gryps.io/KnowledgeGraph.owl#Individual...</td>\n",
       "    </tr>\n",
       "    <tr>\n",
       "      <th>5</th>\n",
       "      <td>https://gryps.io/KnowledgeGraph.owl#Individual...</td>\n",
       "      <td>https://gryps.io/KnowledgeGraph.owl#DataProper...</td>\n",
       "      <td>OATH Violation</td>\n",
       "    </tr>\n",
       "    <tr>\n",
       "      <th>6</th>\n",
       "      <td>https://gryps.io/KnowledgeGraph.owl#Individual...</td>\n",
       "      <td>https://gryps.io/KnowledgeGraph.owl#DataProper...</td>\n",
       "      <td>35319159Y</td>\n",
       "    </tr>\n",
       "    <tr>\n",
       "      <th>7</th>\n",
       "      <td>https://gryps.io/KnowledgeGraph.owl#Individual...</td>\n",
       "      <td>https://gryps.io/KnowledgeGraph.owl#DataProper...</td>\n",
       "      <td>2025-01-23T17:50:08.775Z</td>\n",
       "    </tr>\n",
       "    <tr>\n",
       "      <th>8</th>\n",
       "      <td>https://gryps.io/KnowledgeGraph.owl#Individual...</td>\n",
       "      <td>https://gryps.io/KnowledgeGraph.owl#DataProper...</td>\n",
       "      <td>1016278</td>\n",
       "    </tr>\n",
       "    <tr>\n",
       "      <th>9</th>\n",
       "      <td>https://gryps.io/KnowledgeGraph.owl#Individual...</td>\n",
       "      <td>https://gryps.io/KnowledgeGraph.owl#DataProper...</td>\n",
       "      <td>1E4</td>\n",
       "    </tr>\n",
       "  </tbody>\n",
       "</table>\n",
       "</div>"
      ],
      "text/plain": [
       "                                                   s  \\\n",
       "0  https://gryps.io/KnowledgeGraph.owl#Individual...   \n",
       "1  https://gryps.io/KnowledgeGraph.owl#Individual...   \n",
       "2  https://gryps.io/KnowledgeGraph.owl#Individual...   \n",
       "3  https://gryps.io/KnowledgeGraph.owl#Individual...   \n",
       "4  https://gryps.io/KnowledgeGraph.owl#Individual...   \n",
       "5  https://gryps.io/KnowledgeGraph.owl#Individual...   \n",
       "6  https://gryps.io/KnowledgeGraph.owl#Individual...   \n",
       "7  https://gryps.io/KnowledgeGraph.owl#Individual...   \n",
       "8  https://gryps.io/KnowledgeGraph.owl#Individual...   \n",
       "9  https://gryps.io/KnowledgeGraph.owl#Individual...   \n",
       "\n",
       "                                                   p  \\\n",
       "0    http://www.w3.org/1999/02/22-rdf-syntax-ns#type   \n",
       "1  https://gryps.io/KnowledgeGraph.owl#DataProper...   \n",
       "2  https://gryps.io/KnowledgeGraph.owl#DataProper...   \n",
       "3  https://gryps.io/KnowledgeGraph.owl#DataProper...   \n",
       "4  https://gryps.io/KnowledgeGraph.owl#ObjectProp...   \n",
       "5  https://gryps.io/KnowledgeGraph.owl#DataProper...   \n",
       "6  https://gryps.io/KnowledgeGraph.owl#DataProper...   \n",
       "7  https://gryps.io/KnowledgeGraph.owl#DataProper...   \n",
       "8  https://gryps.io/KnowledgeGraph.owl#DataProper...   \n",
       "9  https://gryps.io/KnowledgeGraph.owl#DataProper...   \n",
       "\n",
       "                                                   o  \n",
       "0  https://gryps.io/KnowledgeGraph.owl#Class/Viol...  \n",
       "1                                          DISMISSED  \n",
       "2                                       CONSTRUCTION  \n",
       "3                                            DOB BIS  \n",
       "4  https://gryps.io/KnowledgeGraph.owl#Individual...  \n",
       "5                                     OATH Violation  \n",
       "6                                          35319159Y  \n",
       "7                           2025-01-23T17:50:08.775Z  \n",
       "8                                            1016278  \n",
       "9                                                1E4  "
      ]
     },
     "execution_count": 4,
     "metadata": {},
     "output_type": "execute_result"
    }
   ],
   "source": [
    "neptune_client.query(query, output_format=\"pandas\")"
   ]
  },
  {
   "cell_type": "markdown",
   "id": "a740a427-9e7a-47bb-a0a8-16326375899b",
   "metadata": {},
   "source": [
    "### QUERYING FROM GRYPS DATA LAKE"
   ]
  },
  {
   "cell_type": "code",
   "execution_count": null,
   "id": "b5e6c19a-6308-49e3-b847-34a9f4c0c944",
   "metadata": {
    "tags": []
   },
   "outputs": [],
   "source": [
    "sql_client = IMSQueryHandler(\"default\")"
   ]
  },
  {
   "cell_type": "code",
   "execution_count": 5,
   "id": "a9fd6f8d-a177-47ab-bc42-0b2994ff7866",
   "metadata": {
    "tags": []
   },
   "outputs": [
    {
     "ename": "NameError",
     "evalue": "name 'sql_client' is not defined",
     "output_type": "error",
     "traceback": [
      "\u001b[0;31m---------------------------------------------------------------------------\u001b[0m",
      "\u001b[0;31mNameError\u001b[0m                                 Traceback (most recent call last)",
      "Cell \u001b[0;32mIn[5], line 1\u001b[0m\n\u001b[0;32m----> 1\u001b[0m \u001b[43msql_client\u001b[49m\u001b[38;5;241m.\u001b[39mlist_of_databases()\n",
      "\u001b[0;31mNameError\u001b[0m: name 'sql_client' is not defined"
     ]
    }
   ],
   "source": [
    "sql_client.list_of_databases()"
   ]
  },
  {
   "cell_type": "code",
   "execution_count": null,
   "id": "88e9469b-d579-4ea1-9aa7-d3eac290444c",
   "metadata": {
    "tags": []
   },
   "outputs": [],
   "source": [
    "sql_client.list_of_tables(\"dob_bis\")"
   ]
  },
  {
   "cell_type": "markdown",
   "id": "1319a2d7-9535-4539-b719-be85950f833e",
   "metadata": {},
   "source": [
    "### A TABLE FROM DOB BIS WITH LINKS ON DOB BIS"
   ]
  },
  {
   "cell_type": "code",
   "execution_count": null,
   "id": "b9fd64ee-0d03-4005-b115-4a927e4edb8a",
   "metadata": {
    "tags": []
   },
   "outputs": [],
   "source": [
    "sql_client.query(query=\"SELECT * FROM coa_docs LIMIT 10\", database=\"dob_bis\")"
   ]
  },
  {
   "cell_type": "markdown",
   "id": "02015a54-044f-431b-b2d7-6bb80ceb9601",
   "metadata": {},
   "source": [
    "### A TABLE FROM DOB BIS DATABASE WITH LINKS ON GRYPS"
   ]
  },
  {
   "cell_type": "code",
   "execution_count": null,
   "id": "037fcdb3-b933-4b72-9c4e-f4d1a8a418ba",
   "metadata": {
    "tags": []
   },
   "outputs": [],
   "source": [
    "sql_client.query(query=\"SELECT * FROM coa_docs_file_link LIMIT 10\", database=\"dob_bis\")"
   ]
  },
  {
   "cell_type": "code",
   "execution_count": null,
   "id": "bce41bd8-6fee-45a0-a73b-5b58f5971626",
   "metadata": {},
   "outputs": [],
   "source": []
  },
  {
   "cell_type": "code",
   "execution_count": null,
   "id": "6b8a3c0b-83c4-451f-a34e-6531cc225ee9",
   "metadata": {},
   "outputs": [],
   "source": []
  }
 ],
 "metadata": {
  "kernelspec": {
   "display_name": "Python 3",
   "language": "python",
   "name": "python3"
  },
  "language_info": {
   "codemirror_mode": {
    "name": "ipython",
    "version": 3
   },
   "file_extension": ".py",
   "mimetype": "text/x-python",
   "name": "python",
   "nbconvert_exporter": "python",
   "pygments_lexer": "ipython3",
   "version": "3.10.8"
  }
 },
 "nbformat": 4,
 "nbformat_minor": 5
}
