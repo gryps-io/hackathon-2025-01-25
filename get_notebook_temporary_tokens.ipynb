{
 "cells": [
  {
   "cell_type": "markdown",
   "id": "5edbc3b8-25cd-4750-8e54-c67ef819c439",
   "metadata": {},
   "source": [
    "### GET CREDENTIALS FOR YOUR NOTEBOOK ROLE"
   ]
  },
  {
   "cell_type": "code",
   "execution_count": null,
   "id": "8c6ce91b-8bca-4190-95d1-cbc34b1e2089",
   "metadata": {
    "tags": []
   },
   "outputs": [],
   "source": [
    "import requests\n",
    "\n",
    "token_url = \"http://169.254.169.254/latest/api/token\"\n",
    "headers = {\"X-aws-ec2-metadata-token-ttl-seconds\": \"21600\"}  # Token TTL (6 hours)\n",
    "\n",
    "# Get the token\n",
    "token_response = requests.put(token_url, headers=headers)\n",
    "token_response.raise_for_status()  # Raise an exception for bad status codes\n",
    "token = token_response.text\n",
    "\n",
    "# Use the token to get the credentials\n",
    "url = \"http://169.254.169.254/latest/meta-data/iam/security-credentials/\"\n",
    "headers = {\"X-aws-ec2-metadata-token\": token}\n",
    "response = requests.get(url, headers=headers)\n",
    "role_name = response.text.strip()\n",
    "response = requests.get(f\"{url}{role_name}\", headers=headers)\n",
    "print(response.json())"
   ]
  },
  {
   "cell_type": "markdown",
   "id": "a6e4488e-ac29-4b3b-b69b-bc3e74b5e577",
   "metadata": {},
   "source": [
    "### CREATE A AWS PROFILE LOCALLY OR AUTHENTICATE USING THESE CREDS AND AUTHENTICATE"
   ]
  },
  {
   "cell_type": "code",
   "execution_count": null,
   "id": "2575f960-d4c6-47b8-8e89-0cebd1df0c93",
   "metadata": {
    "tags": []
   },
   "outputs": [],
   "source": [
    "import boto3\n",
    "from iamauth import Sigv4Auth"
   ]
  },
  {
   "cell_type": "code",
   "execution_count": null,
   "id": "b0675092-5c9b-493b-96dd-6f00e98fbb43",
   "metadata": {
    "tags": []
   },
   "outputs": [],
   "source": [
    "session = boto3.Session(\n",
    "    aws_access_key_id=response.json()[\"AccessKeyId\"],\n",
    "    aws_secret_access_key=response.json()[\"SecretAccessKey\"],\n",
    "    aws_session_token=response.json()['Token']\n",
    ")\n",
    "sigv4 = Sigv4Auth(boto3_session=session)"
   ]
  },
  {
   "cell_type": "markdown",
   "id": "6f081a46-d4f0-4d0b-ba84-680c46abc505",
   "metadata": {},
   "source": [
    "### TAKE A LOOK AT GRYPS_UTILS.PY TO SEE HOW TO CONNECT TO THE ENDPOINT AND AUTHENTICATE USING THE sigV4 LOCALLY"
   ]
  },
  {
   "cell_type": "code",
   "execution_count": null,
   "id": "4acb5087-888c-4898-9b0f-baf5fabe716a",
   "metadata": {},
   "outputs": [],
   "source": []
  }
 ],
 "metadata": {
  "kernelspec": {
   "display_name": "Python 3",
   "language": "python",
   "name": "python3"
  },
  "language_info": {
   "codemirror_mode": {
    "name": "ipython",
    "version": 3
   },
   "file_extension": ".py",
   "mimetype": "text/x-python",
   "name": "python",
   "nbconvert_exporter": "python",
   "pygments_lexer": "ipython3",
   "version": "3.10.8"
  }
 },
 "nbformat": 4,
 "nbformat_minor": 5
}
